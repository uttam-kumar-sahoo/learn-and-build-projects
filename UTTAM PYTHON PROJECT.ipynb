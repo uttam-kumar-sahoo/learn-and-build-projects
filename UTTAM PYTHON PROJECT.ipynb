{
 "cells": [
  {
   "cell_type": "code",
   "execution_count": 1,
   "id": "f76d00fd",
   "metadata": {},
   "outputs": [],
   "source": [
    "students=[]\n",
    "def accept_students():\n",
    "    name = input(\"Enter student name: \")\n",
    "    roll_no = input(\"Enter student roll number: \")\n",
    "    marks1 = float(input(\"Enter marks for subject 1: \"))\n",
    "    marks2 = float(input(\"Enter marks for subject 2: \"))\n",
    "\n",
    "    student = {\n",
    "        \"student_name\": name,\n",
    "        \"student_roll_number\": roll_no,\n",
    "        \"subject_1_marks\": marks1,\n",
    "        \"subject_2_marks\": marks2\n",
    "    }\n",
    "\n",
    "    students.append(student)\n",
    "    print(\"Student data accepted.\")\n",
    "\n",
    "def display_students():\n",
    "    if not students:\n",
    "        print(\"No student data available.\")\n",
    "        return\n",
    "\n",
    "    print(\"Student Data:\")\n",
    "    for student in students:\n",
    "        print(\"Name:\", student[\"student_name\"])\n",
    "        print(\"Roll Number:\", student[\"student_roll_number\"])\n",
    "        print(\"Marks 1:\", student[\"subject_1_marks\"])\n",
    "        print(\"Marks 2:\", student[\"subject_2_marks\"])\n",
    "        print()\n",
    "\n",
    "def search_student_by_name(name):\n",
    "    found_students = []\n",
    "    for student in students:\n",
    "        if student[\"student_name\"].lower() == name.lower():\n",
    "            found_students.append(student)\n",
    "\n",
    "    if not found_students:\n",
    "        print(\"No student with the given name found.\")\n",
    "        return\n",
    "\n",
    "    print(\"Student(s) Found:\")\n",
    "    for student in found_students:\n",
    "        print(\"Name:\", student[\"student_name\"])\n",
    "        print(\"Roll Number:\", student[\"student_roll_number\"])\n",
    "        print(\"Marks 1:\", student[\"subject_1_marks\"])\n",
    "        print(\"Marks 2:\", student[\"subject_2_marks\"])\n",
    "        print()\n",
    "\n",
    "def delete_student(roll_number):\n",
    "    for student in students:\n",
    "        if student[\"student_roll_number\"] == roll_number:\n",
    "            students.remove(student)\n",
    "            print(\"Student data deleted successfully.\")\n",
    "            return\n",
    "\n",
    "    print(\"No student with the given roll number found.\")\n",
    "\n",
    "def update_student(roll_number):\n",
    "    for student in students:\n",
    "        if student[\"student_roll_number\"] == roll_number:\n",
    "            print(\"Enter updated details for the student:\")\n",
    "            student[\"student_name\"] = input(\"Enter updated name: \")\n",
    "            student[\"student_roll_number\"] = input(\"Enter updated roll number: \")\n",
    "            student[\"subject_1_marks\"] = float(input(\"Enter updated marks for subject 1: \"))\n",
    "            student[\"subject_2_marks\"] = float(input(\"Enter updated marks for subject 2: \"))\n",
    "            print(\"Student data updated successfully.\")\n",
    "            return\n",
    "\n",
    "    print(\"No student with the given roll number found.\")"
   ]
  },
  {
   "cell_type": "code",
   "execution_count": 2,
   "id": "9d22b314",
   "metadata": {},
   "outputs": [
    {
     "name": "stdout",
     "output_type": "stream",
     "text": [
      "Enter student name: uttam\n",
      "Enter student roll number: 566\n",
      "Enter marks for subject 1: 80\n",
      "Enter marks for subject 2: 90\n",
      "Student data accepted.\n"
     ]
    }
   ],
   "source": [
    "accept_students()"
   ]
  },
  {
   "cell_type": "code",
   "execution_count": 3,
   "id": "1c918313",
   "metadata": {},
   "outputs": [
    {
     "name": "stdout",
     "output_type": "stream",
     "text": [
      "Enter student name: megha\n",
      "Enter student roll number: 575\n",
      "Enter marks for subject 1: 90\n",
      "Enter marks for subject 2: 99\n",
      "Student data accepted.\n"
     ]
    }
   ],
   "source": [
    "accept_students()"
   ]
  },
  {
   "cell_type": "code",
   "execution_count": 6,
   "id": "cb9d4fda",
   "metadata": {},
   "outputs": [
    {
     "name": "stdout",
     "output_type": "stream",
     "text": [
      "Enter student name: sweta\n",
      "Enter student roll number: 001\n",
      "Enter marks for subject 1: 40\n",
      "Enter marks for subject 2: 60\n",
      "Student data accepted.\n"
     ]
    }
   ],
   "source": [
    "accept_students()"
   ]
  },
  {
   "cell_type": "code",
   "execution_count": 7,
   "id": "9c577727",
   "metadata": {
    "scrolled": true
   },
   "outputs": [
    {
     "name": "stdout",
     "output_type": "stream",
     "text": [
      "Student Data:\n",
      "Name: uttam\n",
      "Roll Number: 566\n",
      "Marks 1: 80.0\n",
      "Marks 2: 90.0\n",
      "\n",
      "Name: megha\n",
      "Roll Number: 575\n",
      "Marks 1: 90.0\n",
      "Marks 2: 99.0\n",
      "\n",
      "Name: sweta\n",
      "Roll Number: 001\n",
      "Marks 1: 40.0\n",
      "Marks 2: 60.0\n",
      "\n"
     ]
    }
   ],
   "source": [
    "display_students()"
   ]
  },
  {
   "cell_type": "code",
   "execution_count": 8,
   "id": "c23f1fdb",
   "metadata": {},
   "outputs": [
    {
     "name": "stdout",
     "output_type": "stream",
     "text": [
      "Student(s) Found:\n",
      "Name: sweta\n",
      "Roll Number: 001\n",
      "Marks 1: 40.0\n",
      "Marks 2: 60.0\n",
      "\n"
     ]
    }
   ],
   "source": [
    "search_student_by_name(\"sweta\")"
   ]
  },
  {
   "cell_type": "code",
   "execution_count": 10,
   "id": "480dffde",
   "metadata": {},
   "outputs": [
    {
     "name": "stdout",
     "output_type": "stream",
     "text": [
      "Enter updated details for the student:\n",
      "Enter updated name: sweta lina\n",
      "Enter updated roll number: 001\n",
      "Enter updated marks for subject 1: 30\n",
      "Enter updated marks for subject 2: 80\n",
      "Student data updated successfully.\n"
     ]
    }
   ],
   "source": [
    "update_student(\"001\")"
   ]
  },
  {
   "cell_type": "code",
   "execution_count": 11,
   "id": "1ac1b36a",
   "metadata": {},
   "outputs": [
    {
     "name": "stdout",
     "output_type": "stream",
     "text": [
      "Student Data:\n",
      "Name: uttam\n",
      "Roll Number: 566\n",
      "Marks 1: 80.0\n",
      "Marks 2: 90.0\n",
      "\n",
      "Name: megha\n",
      "Roll Number: 575\n",
      "Marks 1: 90.0\n",
      "Marks 2: 99.0\n",
      "\n",
      "Name: sweta lina\n",
      "Roll Number: 001\n",
      "Marks 1: 30.0\n",
      "Marks 2: 80.0\n",
      "\n"
     ]
    }
   ],
   "source": [
    "display_students()"
   ]
  },
  {
   "cell_type": "code",
   "execution_count": 12,
   "id": "d92bb723",
   "metadata": {},
   "outputs": [
    {
     "name": "stdout",
     "output_type": "stream",
     "text": [
      "Student data deleted successfully.\n"
     ]
    }
   ],
   "source": [
    "delete_student(\"566\")"
   ]
  },
  {
   "cell_type": "code",
   "execution_count": 13,
   "id": "4e81519e",
   "metadata": {},
   "outputs": [
    {
     "name": "stdout",
     "output_type": "stream",
     "text": [
      "Student Data:\n",
      "Name: megha\n",
      "Roll Number: 575\n",
      "Marks 1: 90.0\n",
      "Marks 2: 99.0\n",
      "\n",
      "Name: sweta lina\n",
      "Roll Number: 001\n",
      "Marks 1: 30.0\n",
      "Marks 2: 80.0\n",
      "\n"
     ]
    }
   ],
   "source": [
    "display_students()"
   ]
  },
  {
   "cell_type": "code",
   "execution_count": null,
   "id": "b53d72f2",
   "metadata": {},
   "outputs": [],
   "source": []
  }
 ],
 "metadata": {
  "kernelspec": {
   "display_name": "Python 3 (ipykernel)",
   "language": "python",
   "name": "python3"
  },
  "language_info": {
   "codemirror_mode": {
    "name": "ipython",
    "version": 3
   },
   "file_extension": ".py",
   "mimetype": "text/x-python",
   "name": "python",
   "nbconvert_exporter": "python",
   "pygments_lexer": "ipython3",
   "version": "3.11.3"
  }
 },
 "nbformat": 4,
 "nbformat_minor": 5
}
